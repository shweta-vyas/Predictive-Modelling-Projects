{
  "cells": [
    {
      "cell_type": "code",
      "execution_count": null,
      "metadata": {
        "id": "UiH1Ml_iG6Dq"
      },
      "outputs": [],
      "source": [
        "import numpy as np # linear algebra\n",
        "import pandas as pd # data processing, CSV file I/O (e.g. pd.read_csv)\n",
        "from sklearn.model_selection import train_test_split\n",
        "from sklearn.preprocessing import StandardScaler\n",
        "\n",
        "import tensorflow as tf\n",
        "from tensorflow.keras.models import Sequential\n",
        "from tensorflow.keras.layers import Dense, Dropout\n",
        "\n",
        "\n",
        "import warnings\n",
        "warnings.filterwarnings(\"ignore\")"
      ]
    },
    {
      "cell_type": "code",
      "source": [
        "train_df = pd.read_csv('train.csv')\n",
        "test_df = pd.read_csv('test.csv')"
      ],
      "metadata": {
        "id": "hIzcn5jsAM-2"
      },
      "execution_count": null,
      "outputs": []
    },
    {
      "cell_type": "code",
      "execution_count": null,
      "metadata": {
        "colab": {
          "base_uri": "https://localhost:8080/",
          "height": 424
        },
        "id": "V_Y0IpFbG6Dr",
        "outputId": "16c8b5c5-496e-4a25-949e-8477bd2deb4a"
      },
      "outputs": [
        {
          "output_type": "execute_result",
          "data": {
            "text/plain": [
              "      id  gravity    ph  osmo  cond  urea  calc  target\n",
              "0      0    1.013  6.19   443  14.8   124  1.45       0\n",
              "1      1    1.025  5.40   703  23.6   394  4.18       0\n",
              "2      2    1.009  6.13   371  24.5   159  9.04       0\n",
              "3      3    1.021  4.91   442  20.8   398  6.63       1\n",
              "4      4    1.021  5.53   874  17.8   385  2.21       1\n",
              "..   ...      ...   ...   ...   ...   ...   ...     ...\n",
              "409  409    1.011  5.21   527  21.4    75  1.53       0\n",
              "410  410    1.024  5.53   577  19.7   224  0.77       0\n",
              "411  411    1.018  6.28   455  22.2   270  7.68       1\n",
              "412  412    1.008  7.12   325  12.6    75  1.03       1\n",
              "413  413    1.011  6.13   364   9.9   159  0.27       0\n",
              "\n",
              "[414 rows x 8 columns]"
            ],
            "text/html": [
              "\n",
              "  <div id=\"df-0b0d7e2d-21c0-4651-8cc7-2b819d681413\" class=\"colab-df-container\">\n",
              "    <div>\n",
              "<style scoped>\n",
              "    .dataframe tbody tr th:only-of-type {\n",
              "        vertical-align: middle;\n",
              "    }\n",
              "\n",
              "    .dataframe tbody tr th {\n",
              "        vertical-align: top;\n",
              "    }\n",
              "\n",
              "    .dataframe thead th {\n",
              "        text-align: right;\n",
              "    }\n",
              "</style>\n",
              "<table border=\"1\" class=\"dataframe\">\n",
              "  <thead>\n",
              "    <tr style=\"text-align: right;\">\n",
              "      <th></th>\n",
              "      <th>id</th>\n",
              "      <th>gravity</th>\n",
              "      <th>ph</th>\n",
              "      <th>osmo</th>\n",
              "      <th>cond</th>\n",
              "      <th>urea</th>\n",
              "      <th>calc</th>\n",
              "      <th>target</th>\n",
              "    </tr>\n",
              "  </thead>\n",
              "  <tbody>\n",
              "    <tr>\n",
              "      <th>0</th>\n",
              "      <td>0</td>\n",
              "      <td>1.013</td>\n",
              "      <td>6.19</td>\n",
              "      <td>443</td>\n",
              "      <td>14.8</td>\n",
              "      <td>124</td>\n",
              "      <td>1.45</td>\n",
              "      <td>0</td>\n",
              "    </tr>\n",
              "    <tr>\n",
              "      <th>1</th>\n",
              "      <td>1</td>\n",
              "      <td>1.025</td>\n",
              "      <td>5.40</td>\n",
              "      <td>703</td>\n",
              "      <td>23.6</td>\n",
              "      <td>394</td>\n",
              "      <td>4.18</td>\n",
              "      <td>0</td>\n",
              "    </tr>\n",
              "    <tr>\n",
              "      <th>2</th>\n",
              "      <td>2</td>\n",
              "      <td>1.009</td>\n",
              "      <td>6.13</td>\n",
              "      <td>371</td>\n",
              "      <td>24.5</td>\n",
              "      <td>159</td>\n",
              "      <td>9.04</td>\n",
              "      <td>0</td>\n",
              "    </tr>\n",
              "    <tr>\n",
              "      <th>3</th>\n",
              "      <td>3</td>\n",
              "      <td>1.021</td>\n",
              "      <td>4.91</td>\n",
              "      <td>442</td>\n",
              "      <td>20.8</td>\n",
              "      <td>398</td>\n",
              "      <td>6.63</td>\n",
              "      <td>1</td>\n",
              "    </tr>\n",
              "    <tr>\n",
              "      <th>4</th>\n",
              "      <td>4</td>\n",
              "      <td>1.021</td>\n",
              "      <td>5.53</td>\n",
              "      <td>874</td>\n",
              "      <td>17.8</td>\n",
              "      <td>385</td>\n",
              "      <td>2.21</td>\n",
              "      <td>1</td>\n",
              "    </tr>\n",
              "    <tr>\n",
              "      <th>...</th>\n",
              "      <td>...</td>\n",
              "      <td>...</td>\n",
              "      <td>...</td>\n",
              "      <td>...</td>\n",
              "      <td>...</td>\n",
              "      <td>...</td>\n",
              "      <td>...</td>\n",
              "      <td>...</td>\n",
              "    </tr>\n",
              "    <tr>\n",
              "      <th>409</th>\n",
              "      <td>409</td>\n",
              "      <td>1.011</td>\n",
              "      <td>5.21</td>\n",
              "      <td>527</td>\n",
              "      <td>21.4</td>\n",
              "      <td>75</td>\n",
              "      <td>1.53</td>\n",
              "      <td>0</td>\n",
              "    </tr>\n",
              "    <tr>\n",
              "      <th>410</th>\n",
              "      <td>410</td>\n",
              "      <td>1.024</td>\n",
              "      <td>5.53</td>\n",
              "      <td>577</td>\n",
              "      <td>19.7</td>\n",
              "      <td>224</td>\n",
              "      <td>0.77</td>\n",
              "      <td>0</td>\n",
              "    </tr>\n",
              "    <tr>\n",
              "      <th>411</th>\n",
              "      <td>411</td>\n",
              "      <td>1.018</td>\n",
              "      <td>6.28</td>\n",
              "      <td>455</td>\n",
              "      <td>22.2</td>\n",
              "      <td>270</td>\n",
              "      <td>7.68</td>\n",
              "      <td>1</td>\n",
              "    </tr>\n",
              "    <tr>\n",
              "      <th>412</th>\n",
              "      <td>412</td>\n",
              "      <td>1.008</td>\n",
              "      <td>7.12</td>\n",
              "      <td>325</td>\n",
              "      <td>12.6</td>\n",
              "      <td>75</td>\n",
              "      <td>1.03</td>\n",
              "      <td>1</td>\n",
              "    </tr>\n",
              "    <tr>\n",
              "      <th>413</th>\n",
              "      <td>413</td>\n",
              "      <td>1.011</td>\n",
              "      <td>6.13</td>\n",
              "      <td>364</td>\n",
              "      <td>9.9</td>\n",
              "      <td>159</td>\n",
              "      <td>0.27</td>\n",
              "      <td>0</td>\n",
              "    </tr>\n",
              "  </tbody>\n",
              "</table>\n",
              "<p>414 rows × 8 columns</p>\n",
              "</div>\n",
              "    <div class=\"colab-df-buttons\">\n",
              "\n",
              "  <div class=\"colab-df-container\">\n",
              "    <button class=\"colab-df-convert\" onclick=\"convertToInteractive('df-0b0d7e2d-21c0-4651-8cc7-2b819d681413')\"\n",
              "            title=\"Convert this dataframe to an interactive table.\"\n",
              "            style=\"display:none;\">\n",
              "\n",
              "  <svg xmlns=\"http://www.w3.org/2000/svg\" height=\"24px\" viewBox=\"0 -960 960 960\">\n",
              "    <path d=\"M120-120v-720h720v720H120Zm60-500h600v-160H180v160Zm220 220h160v-160H400v160Zm0 220h160v-160H400v160ZM180-400h160v-160H180v160Zm440 0h160v-160H620v160ZM180-180h160v-160H180v160Zm440 0h160v-160H620v160Z\"/>\n",
              "  </svg>\n",
              "    </button>\n",
              "\n",
              "  <style>\n",
              "    .colab-df-container {\n",
              "      display:flex;\n",
              "      gap: 12px;\n",
              "    }\n",
              "\n",
              "    .colab-df-convert {\n",
              "      background-color: #E8F0FE;\n",
              "      border: none;\n",
              "      border-radius: 50%;\n",
              "      cursor: pointer;\n",
              "      display: none;\n",
              "      fill: #1967D2;\n",
              "      height: 32px;\n",
              "      padding: 0 0 0 0;\n",
              "      width: 32px;\n",
              "    }\n",
              "\n",
              "    .colab-df-convert:hover {\n",
              "      background-color: #E2EBFA;\n",
              "      box-shadow: 0px 1px 2px rgba(60, 64, 67, 0.3), 0px 1px 3px 1px rgba(60, 64, 67, 0.15);\n",
              "      fill: #174EA6;\n",
              "    }\n",
              "\n",
              "    .colab-df-buttons div {\n",
              "      margin-bottom: 4px;\n",
              "    }\n",
              "\n",
              "    [theme=dark] .colab-df-convert {\n",
              "      background-color: #3B4455;\n",
              "      fill: #D2E3FC;\n",
              "    }\n",
              "\n",
              "    [theme=dark] .colab-df-convert:hover {\n",
              "      background-color: #434B5C;\n",
              "      box-shadow: 0px 1px 3px 1px rgba(0, 0, 0, 0.15);\n",
              "      filter: drop-shadow(0px 1px 2px rgba(0, 0, 0, 0.3));\n",
              "      fill: #FFFFFF;\n",
              "    }\n",
              "  </style>\n",
              "\n",
              "    <script>\n",
              "      const buttonEl =\n",
              "        document.querySelector('#df-0b0d7e2d-21c0-4651-8cc7-2b819d681413 button.colab-df-convert');\n",
              "      buttonEl.style.display =\n",
              "        google.colab.kernel.accessAllowed ? 'block' : 'none';\n",
              "\n",
              "      async function convertToInteractive(key) {\n",
              "        const element = document.querySelector('#df-0b0d7e2d-21c0-4651-8cc7-2b819d681413');\n",
              "        const dataTable =\n",
              "          await google.colab.kernel.invokeFunction('convertToInteractive',\n",
              "                                                    [key], {});\n",
              "        if (!dataTable) return;\n",
              "\n",
              "        const docLinkHtml = 'Like what you see? Visit the ' +\n",
              "          '<a target=\"_blank\" href=https://colab.research.google.com/notebooks/data_table.ipynb>data table notebook</a>'\n",
              "          + ' to learn more about interactive tables.';\n",
              "        element.innerHTML = '';\n",
              "        dataTable['output_type'] = 'display_data';\n",
              "        await google.colab.output.renderOutput(dataTable, element);\n",
              "        const docLink = document.createElement('div');\n",
              "        docLink.innerHTML = docLinkHtml;\n",
              "        element.appendChild(docLink);\n",
              "      }\n",
              "    </script>\n",
              "  </div>\n",
              "\n",
              "\n",
              "<div id=\"df-4d60f307-f8db-4389-a4de-6970f4c00158\">\n",
              "  <button class=\"colab-df-quickchart\" onclick=\"quickchart('df-4d60f307-f8db-4389-a4de-6970f4c00158')\"\n",
              "            title=\"Suggest charts\"\n",
              "            style=\"display:none;\">\n",
              "\n",
              "<svg xmlns=\"http://www.w3.org/2000/svg\" height=\"24px\"viewBox=\"0 0 24 24\"\n",
              "     width=\"24px\">\n",
              "    <g>\n",
              "        <path d=\"M19 3H5c-1.1 0-2 .9-2 2v14c0 1.1.9 2 2 2h14c1.1 0 2-.9 2-2V5c0-1.1-.9-2-2-2zM9 17H7v-7h2v7zm4 0h-2V7h2v10zm4 0h-2v-4h2v4z\"/>\n",
              "    </g>\n",
              "</svg>\n",
              "  </button>\n",
              "\n",
              "<style>\n",
              "  .colab-df-quickchart {\n",
              "      --bg-color: #E8F0FE;\n",
              "      --fill-color: #1967D2;\n",
              "      --hover-bg-color: #E2EBFA;\n",
              "      --hover-fill-color: #174EA6;\n",
              "      --disabled-fill-color: #AAA;\n",
              "      --disabled-bg-color: #DDD;\n",
              "  }\n",
              "\n",
              "  [theme=dark] .colab-df-quickchart {\n",
              "      --bg-color: #3B4455;\n",
              "      --fill-color: #D2E3FC;\n",
              "      --hover-bg-color: #434B5C;\n",
              "      --hover-fill-color: #FFFFFF;\n",
              "      --disabled-bg-color: #3B4455;\n",
              "      --disabled-fill-color: #666;\n",
              "  }\n",
              "\n",
              "  .colab-df-quickchart {\n",
              "    background-color: var(--bg-color);\n",
              "    border: none;\n",
              "    border-radius: 50%;\n",
              "    cursor: pointer;\n",
              "    display: none;\n",
              "    fill: var(--fill-color);\n",
              "    height: 32px;\n",
              "    padding: 0;\n",
              "    width: 32px;\n",
              "  }\n",
              "\n",
              "  .colab-df-quickchart:hover {\n",
              "    background-color: var(--hover-bg-color);\n",
              "    box-shadow: 0 1px 2px rgba(60, 64, 67, 0.3), 0 1px 3px 1px rgba(60, 64, 67, 0.15);\n",
              "    fill: var(--button-hover-fill-color);\n",
              "  }\n",
              "\n",
              "  .colab-df-quickchart-complete:disabled,\n",
              "  .colab-df-quickchart-complete:disabled:hover {\n",
              "    background-color: var(--disabled-bg-color);\n",
              "    fill: var(--disabled-fill-color);\n",
              "    box-shadow: none;\n",
              "  }\n",
              "\n",
              "  .colab-df-spinner {\n",
              "    border: 2px solid var(--fill-color);\n",
              "    border-color: transparent;\n",
              "    border-bottom-color: var(--fill-color);\n",
              "    animation:\n",
              "      spin 1s steps(1) infinite;\n",
              "  }\n",
              "\n",
              "  @keyframes spin {\n",
              "    0% {\n",
              "      border-color: transparent;\n",
              "      border-bottom-color: var(--fill-color);\n",
              "      border-left-color: var(--fill-color);\n",
              "    }\n",
              "    20% {\n",
              "      border-color: transparent;\n",
              "      border-left-color: var(--fill-color);\n",
              "      border-top-color: var(--fill-color);\n",
              "    }\n",
              "    30% {\n",
              "      border-color: transparent;\n",
              "      border-left-color: var(--fill-color);\n",
              "      border-top-color: var(--fill-color);\n",
              "      border-right-color: var(--fill-color);\n",
              "    }\n",
              "    40% {\n",
              "      border-color: transparent;\n",
              "      border-right-color: var(--fill-color);\n",
              "      border-top-color: var(--fill-color);\n",
              "    }\n",
              "    60% {\n",
              "      border-color: transparent;\n",
              "      border-right-color: var(--fill-color);\n",
              "    }\n",
              "    80% {\n",
              "      border-color: transparent;\n",
              "      border-right-color: var(--fill-color);\n",
              "      border-bottom-color: var(--fill-color);\n",
              "    }\n",
              "    90% {\n",
              "      border-color: transparent;\n",
              "      border-bottom-color: var(--fill-color);\n",
              "    }\n",
              "  }\n",
              "</style>\n",
              "\n",
              "  <script>\n",
              "    async function quickchart(key) {\n",
              "      const quickchartButtonEl =\n",
              "        document.querySelector('#' + key + ' button');\n",
              "      quickchartButtonEl.disabled = true;  // To prevent multiple clicks.\n",
              "      quickchartButtonEl.classList.add('colab-df-spinner');\n",
              "      try {\n",
              "        const charts = await google.colab.kernel.invokeFunction(\n",
              "            'suggestCharts', [key], {});\n",
              "      } catch (error) {\n",
              "        console.error('Error during call to suggestCharts:', error);\n",
              "      }\n",
              "      quickchartButtonEl.classList.remove('colab-df-spinner');\n",
              "      quickchartButtonEl.classList.add('colab-df-quickchart-complete');\n",
              "    }\n",
              "    (() => {\n",
              "      let quickchartButtonEl =\n",
              "        document.querySelector('#df-4d60f307-f8db-4389-a4de-6970f4c00158 button');\n",
              "      quickchartButtonEl.style.display =\n",
              "        google.colab.kernel.accessAllowed ? 'block' : 'none';\n",
              "    })();\n",
              "  </script>\n",
              "</div>\n",
              "\n",
              "  <div id=\"id_f07edccf-8a5b-4d98-9880-a5987de1fcdd\">\n",
              "    <style>\n",
              "      .colab-df-generate {\n",
              "        background-color: #E8F0FE;\n",
              "        border: none;\n",
              "        border-radius: 50%;\n",
              "        cursor: pointer;\n",
              "        display: none;\n",
              "        fill: #1967D2;\n",
              "        height: 32px;\n",
              "        padding: 0 0 0 0;\n",
              "        width: 32px;\n",
              "      }\n",
              "\n",
              "      .colab-df-generate:hover {\n",
              "        background-color: #E2EBFA;\n",
              "        box-shadow: 0px 1px 2px rgba(60, 64, 67, 0.3), 0px 1px 3px 1px rgba(60, 64, 67, 0.15);\n",
              "        fill: #174EA6;\n",
              "      }\n",
              "\n",
              "      [theme=dark] .colab-df-generate {\n",
              "        background-color: #3B4455;\n",
              "        fill: #D2E3FC;\n",
              "      }\n",
              "\n",
              "      [theme=dark] .colab-df-generate:hover {\n",
              "        background-color: #434B5C;\n",
              "        box-shadow: 0px 1px 3px 1px rgba(0, 0, 0, 0.15);\n",
              "        filter: drop-shadow(0px 1px 2px rgba(0, 0, 0, 0.3));\n",
              "        fill: #FFFFFF;\n",
              "      }\n",
              "    </style>\n",
              "    <button class=\"colab-df-generate\" onclick=\"generateWithVariable('train_df')\"\n",
              "            title=\"Generate code using this dataframe.\"\n",
              "            style=\"display:none;\">\n",
              "\n",
              "  <svg xmlns=\"http://www.w3.org/2000/svg\" height=\"24px\"viewBox=\"0 0 24 24\"\n",
              "       width=\"24px\">\n",
              "    <path d=\"M7,19H8.4L18.45,9,17,7.55,7,17.6ZM5,21V16.75L18.45,3.32a2,2,0,0,1,2.83,0l1.4,1.43a1.91,1.91,0,0,1,.58,1.4,1.91,1.91,0,0,1-.58,1.4L9.25,21ZM18.45,9,17,7.55Zm-12,3A5.31,5.31,0,0,0,4.9,8.1,5.31,5.31,0,0,0,1,6.5,5.31,5.31,0,0,0,4.9,4.9,5.31,5.31,0,0,0,6.5,1,5.31,5.31,0,0,0,8.1,4.9,5.31,5.31,0,0,0,12,6.5,5.46,5.46,0,0,0,6.5,12Z\"/>\n",
              "  </svg>\n",
              "    </button>\n",
              "    <script>\n",
              "      (() => {\n",
              "      const buttonEl =\n",
              "        document.querySelector('#id_f07edccf-8a5b-4d98-9880-a5987de1fcdd button.colab-df-generate');\n",
              "      buttonEl.style.display =\n",
              "        google.colab.kernel.accessAllowed ? 'block' : 'none';\n",
              "\n",
              "      buttonEl.onclick = () => {\n",
              "        google.colab.notebook.generateWithVariable('train_df');\n",
              "      }\n",
              "      })();\n",
              "    </script>\n",
              "  </div>\n",
              "\n",
              "    </div>\n",
              "  </div>\n"
            ],
            "application/vnd.google.colaboratory.intrinsic+json": {
              "type": "dataframe",
              "variable_name": "train_df",
              "summary": "{\n  \"name\": \"train_df\",\n  \"rows\": 414,\n  \"fields\": [\n    {\n      \"column\": \"id\",\n      \"properties\": {\n        \"dtype\": \"number\",\n        \"std\": 119,\n        \"min\": 0,\n        \"max\": 413,\n        \"num_unique_values\": 414,\n        \"samples\": [\n          358,\n          350,\n          373\n        ],\n        \"semantic_type\": \"\",\n        \"description\": \"\"\n      }\n    },\n    {\n      \"column\": \"gravity\",\n      \"properties\": {\n        \"dtype\": \"number\",\n        \"std\": 0.006674972893361655,\n        \"min\": 1.005,\n        \"max\": 1.04,\n        \"num_unique_values\": 28,\n        \"samples\": [\n          1.01,\n          1.04,\n          1.011\n        ],\n        \"semantic_type\": \"\",\n        \"description\": \"\"\n      }\n    },\n    {\n      \"column\": \"ph\",\n      \"properties\": {\n        \"dtype\": \"number\",\n        \"std\": 0.6422600508252361,\n        \"min\": 4.76,\n        \"max\": 7.94,\n        \"num_unique_values\": 71,\n        \"samples\": [\n          5.58,\n          6.19,\n          5.67\n        ],\n        \"semantic_type\": \"\",\n        \"description\": \"\"\n      }\n    },\n    {\n      \"column\": \"osmo\",\n      \"properties\": {\n        \"dtype\": \"number\",\n        \"std\": 234,\n        \"min\": 187,\n        \"max\": 1236,\n        \"num_unique_values\": 80,\n        \"samples\": [\n          907,\n          443,\n          341\n        ],\n        \"semantic_type\": \"\",\n        \"description\": \"\"\n      }\n    },\n    {\n      \"column\": \"cond\",\n      \"properties\": {\n        \"dtype\": \"number\",\n        \"std\": 7.514749759990025,\n        \"min\": 5.1,\n        \"max\": 38.0,\n        \"num_unique_values\": 65,\n        \"samples\": [\n          14.6,\n          27.5,\n          14.8\n        ],\n        \"semantic_type\": \"\",\n        \"description\": \"\"\n      }\n    },\n    {\n      \"column\": \"urea\",\n      \"properties\": {\n        \"dtype\": \"number\",\n        \"std\": 136,\n        \"min\": 10,\n        \"max\": 620,\n        \"num_unique_values\": 73,\n        \"samples\": [\n          385,\n          325,\n          457\n        ],\n        \"semantic_type\": \"\",\n        \"description\": \"\"\n      }\n    },\n    {\n      \"column\": \"calc\",\n      \"properties\": {\n        \"dtype\": \"number\",\n        \"std\": 3.2176405021529133,\n        \"min\": 0.17,\n        \"max\": 14.34,\n        \"num_unique_values\": 85,\n        \"samples\": [\n          1.58,\n          1.45,\n          8.53\n        ],\n        \"semantic_type\": \"\",\n        \"description\": \"\"\n      }\n    },\n    {\n      \"column\": \"target\",\n      \"properties\": {\n        \"dtype\": \"number\",\n        \"std\": 0,\n        \"min\": 0,\n        \"max\": 1,\n        \"num_unique_values\": 2,\n        \"samples\": [\n          1,\n          0\n        ],\n        \"semantic_type\": \"\",\n        \"description\": \"\"\n      }\n    }\n  ]\n}"
            }
          },
          "metadata": {},
          "execution_count": 5
        }
      ],
      "source": [
        "train_df"
      ]
    },
    {
      "cell_type": "code",
      "execution_count": null,
      "metadata": {
        "id": "1T71yobPG6Ds"
      },
      "outputs": [],
      "source": [
        "X = train_df.drop(columns=['target','id'])  # Features\n",
        "y = train_df['target'] #target"
      ]
    },
    {
      "cell_type": "code",
      "execution_count": null,
      "metadata": {
        "id": "jDeTqXBcG6Ds"
      },
      "outputs": [],
      "source": [
        "X_train, X_test, y_train, y_test = train_test_split(X, y, test_size=0.2, random_state=42)"
      ]
    },
    {
      "cell_type": "code",
      "execution_count": null,
      "metadata": {
        "colab": {
          "base_uri": "https://localhost:8080/"
        },
        "id": "vMqGavNfG6Ds",
        "outputId": "a65e64a6-7ac3-4677-b37b-6dad624b7970"
      },
      "outputs": [
        {
          "output_type": "stream",
          "name": "stdout",
          "text": [
            "Shape of input features (X_train): (331, 6)\n",
            "Shape of target variable (y_train): (331,)\n"
          ]
        }
      ],
      "source": [
        "print(\"Shape of input features (X_train):\", X_train.shape)\n",
        "print(\"Shape of target variable (y_train):\", y_train.shape)"
      ]
    },
    {
      "cell_type": "markdown",
      "metadata": {
        "id": "vsD_n2HGG6Ds"
      },
      "source": [
        "## Base model"
      ]
    },
    {
      "cell_type": "code",
      "execution_count": null,
      "metadata": {
        "colab": {
          "base_uri": "https://localhost:8080/"
        },
        "id": "eHqG0yG2G6Ds",
        "outputId": "2009451d-a162-4e5f-f66c-d593187c3a0a"
      },
      "outputs": [
        {
          "output_type": "execute_result",
          "data": {
            "text/plain": [
              "(6,)"
            ]
          },
          "metadata": {},
          "execution_count": 9
        }
      ],
      "source": [
        "input_shape = (X.shape[1],)\n",
        "input_shape"
      ]
    },
    {
      "cell_type": "code",
      "execution_count": null,
      "metadata": {
        "id": "ru2pbbyJG6Ds"
      },
      "outputs": [],
      "source": [
        "model = None\n",
        "model = Sequential()\n",
        "model.add(Dense(6, activation='relu', input_shape=input_shape))\n",
        "model.add(Dense(1, activation='sigmoid'))"
      ]
    },
    {
      "cell_type": "code",
      "execution_count": null,
      "metadata": {
        "id": "39XBAaIwG6Ds"
      },
      "outputs": [],
      "source": [
        "model.compile(optimizer='adam', loss='binary_crossentropy', metrics=['accuracy'])"
      ]
    },
    {
      "cell_type": "code",
      "execution_count": null,
      "metadata": {
        "colab": {
          "base_uri": "https://localhost:8080/"
        },
        "id": "m90WTySZG6Ds",
        "outputId": "9297aa55-ac57-49b4-a052-27280d35c437"
      },
      "outputs": [
        {
          "output_type": "stream",
          "name": "stdout",
          "text": [
            "Epoch 1/25\n",
            "9/9 [==============================] - 3s 68ms/step - loss: 238.5737 - accuracy: 0.4394 - val_loss: 238.1977 - val_accuracy: 0.4478\n",
            "Epoch 2/25\n",
            "9/9 [==============================] - 0s 13ms/step - loss: 228.3121 - accuracy: 0.4394 - val_loss: 227.8537 - val_accuracy: 0.4478\n",
            "Epoch 3/25\n",
            "9/9 [==============================] - 0s 15ms/step - loss: 218.3023 - accuracy: 0.4394 - val_loss: 217.7660 - val_accuracy: 0.4478\n",
            "Epoch 4/25\n",
            "9/9 [==============================] - 0s 11ms/step - loss: 208.8077 - accuracy: 0.4394 - val_loss: 208.0436 - val_accuracy: 0.4478\n",
            "Epoch 5/25\n",
            "9/9 [==============================] - 0s 20ms/step - loss: 199.2580 - accuracy: 0.4394 - val_loss: 198.8426 - val_accuracy: 0.4478\n",
            "Epoch 6/25\n",
            "9/9 [==============================] - 0s 21ms/step - loss: 190.3252 - accuracy: 0.4394 - val_loss: 189.8024 - val_accuracy: 0.4478\n",
            "Epoch 7/25\n",
            "9/9 [==============================] - 0s 12ms/step - loss: 181.7715 - accuracy: 0.4394 - val_loss: 180.7142 - val_accuracy: 0.4478\n",
            "Epoch 8/25\n",
            "9/9 [==============================] - 0s 10ms/step - loss: 173.0530 - accuracy: 0.4394 - val_loss: 172.4225 - val_accuracy: 0.4478\n",
            "Epoch 9/25\n",
            "9/9 [==============================] - 0s 16ms/step - loss: 164.8825 - accuracy: 0.4394 - val_loss: 164.4672 - val_accuracy: 0.4478\n",
            "Epoch 10/25\n",
            "9/9 [==============================] - 0s 9ms/step - loss: 157.2012 - accuracy: 0.4394 - val_loss: 156.5915 - val_accuracy: 0.4478\n",
            "Epoch 11/25\n",
            "9/9 [==============================] - 0s 12ms/step - loss: 149.6088 - accuracy: 0.4394 - val_loss: 149.0684 - val_accuracy: 0.4478\n",
            "Epoch 12/25\n",
            "9/9 [==============================] - 0s 16ms/step - loss: 142.4955 - accuracy: 0.4394 - val_loss: 141.9430 - val_accuracy: 0.4478\n",
            "Epoch 13/25\n",
            "9/9 [==============================] - 0s 13ms/step - loss: 135.7932 - accuracy: 0.4394 - val_loss: 135.1942 - val_accuracy: 0.4478\n",
            "Epoch 14/25\n",
            "9/9 [==============================] - 0s 27ms/step - loss: 129.3437 - accuracy: 0.4394 - val_loss: 128.6848 - val_accuracy: 0.4478\n",
            "Epoch 15/25\n",
            "9/9 [==============================] - 0s 13ms/step - loss: 122.9629 - accuracy: 0.4394 - val_loss: 122.3825 - val_accuracy: 0.4478\n",
            "Epoch 16/25\n",
            "9/9 [==============================] - 0s 9ms/step - loss: 117.0247 - accuracy: 0.4394 - val_loss: 116.2347 - val_accuracy: 0.4478\n",
            "Epoch 17/25\n",
            "9/9 [==============================] - 0s 14ms/step - loss: 111.1489 - accuracy: 0.4394 - val_loss: 110.6608 - val_accuracy: 0.4478\n",
            "Epoch 18/25\n",
            "9/9 [==============================] - 0s 10ms/step - loss: 105.6986 - accuracy: 0.4394 - val_loss: 105.3053 - val_accuracy: 0.4478\n",
            "Epoch 19/25\n",
            "9/9 [==============================] - 0s 10ms/step - loss: 100.6105 - accuracy: 0.4394 - val_loss: 99.8744 - val_accuracy: 0.4478\n",
            "Epoch 20/25\n",
            "9/9 [==============================] - 0s 12ms/step - loss: 95.2660 - accuracy: 0.4394 - val_loss: 94.9877 - val_accuracy: 0.4478\n",
            "Epoch 21/25\n",
            "9/9 [==============================] - 0s 13ms/step - loss: 90.5205 - accuracy: 0.4394 - val_loss: 89.9009 - val_accuracy: 0.4478\n",
            "Epoch 22/25\n",
            "9/9 [==============================] - 0s 17ms/step - loss: 85.7701 - accuracy: 0.4394 - val_loss: 85.1534 - val_accuracy: 0.4478\n",
            "Epoch 23/25\n",
            "9/9 [==============================] - 0s 12ms/step - loss: 81.3136 - accuracy: 0.4394 - val_loss: 80.6074 - val_accuracy: 0.4478\n",
            "Epoch 24/25\n",
            "9/9 [==============================] - 0s 12ms/step - loss: 76.8336 - accuracy: 0.4394 - val_loss: 76.2988 - val_accuracy: 0.4478\n",
            "Epoch 25/25\n",
            "9/9 [==============================] - 0s 16ms/step - loss: 72.7068 - accuracy: 0.4394 - val_loss: 72.1317 - val_accuracy: 0.4478\n"
          ]
        }
      ],
      "source": [
        "history = model.fit(X_train, y_train, epochs=25, validation_split=0.2)"
      ]
    },
    {
      "cell_type": "code",
      "execution_count": null,
      "metadata": {
        "colab": {
          "base_uri": "https://localhost:8080/"
        },
        "id": "ETIHJwnMG6Dt",
        "outputId": "d59bdbcc-5557-4572-d18b-973688673fb5"
      },
      "outputs": [
        {
          "output_type": "stream",
          "name": "stdout",
          "text": [
            "3/3 [==============================] - 0s 7ms/step - loss: 56.2143 - accuracy: 0.4578\n"
          ]
        }
      ],
      "source": [
        "val_loss, val_accuracy = model.evaluate(X_test, y_test)"
      ]
    },
    {
      "cell_type": "code",
      "execution_count": null,
      "metadata": {
        "colab": {
          "base_uri": "https://localhost:8080/"
        },
        "id": "CdM1akhRG6Dt",
        "outputId": "8fd641ac-d080-4c60-ca87-48698afbe50b"
      },
      "outputs": [
        {
          "output_type": "stream",
          "name": "stdout",
          "text": [
            "Validation Accuracy: 0.45783132314682007\n"
          ]
        }
      ],
      "source": [
        "print(\"Validation Accuracy:\", val_accuracy)"
      ]
    },
    {
      "cell_type": "markdown",
      "metadata": {
        "id": "4iFG1YexG6Dt"
      },
      "source": [
        "---\n",
        "## Preparing data"
      ]
    },
    {
      "cell_type": "code",
      "execution_count": null,
      "metadata": {
        "id": "h1UEef4vG6Dt"
      },
      "outputs": [],
      "source": [
        "from sklearn.preprocessing import PolynomialFeatures\n",
        "from imblearn.over_sampling import SMOTE\n",
        "from keras.utils import to_categorical\n",
        "from keras.callbacks import ReduceLROnPlateau, EarlyStopping\n",
        "from tensorflow.keras.optimizers import Adam, SGD"
      ]
    },
    {
      "cell_type": "code",
      "execution_count": null,
      "metadata": {
        "id": "QmlNYURuG6Dt"
      },
      "outputs": [],
      "source": [
        "train_df = pd.read_csv('train.csv')\n",
        "test_df = pd.read_csv('test.csv')"
      ]
    },
    {
      "cell_type": "code",
      "execution_count": null,
      "metadata": {
        "id": "gPgseqFhG6Dt"
      },
      "outputs": [],
      "source": [
        "x = train_df.drop(['id', 'target'], axis=1)\n",
        "y = train_df['target']"
      ]
    },
    {
      "cell_type": "code",
      "source": [
        "y.value_counts()"
      ],
      "metadata": {
        "colab": {
          "base_uri": "https://localhost:8080/"
        },
        "id": "tNQWIh05ti5z",
        "outputId": "ab3c8f93-6401-4a03-d774-6b10e7ea7318"
      },
      "execution_count": null,
      "outputs": [
        {
          "output_type": "execute_result",
          "data": {
            "text/plain": [
              "target\n",
              "0    230\n",
              "1    184\n",
              "Name: count, dtype: int64"
            ]
          },
          "metadata": {},
          "execution_count": 18
        }
      ]
    },
    {
      "cell_type": "code",
      "execution_count": null,
      "metadata": {
        "id": "dL4QMeYuG6Dt"
      },
      "outputs": [],
      "source": [
        "smote = SMOTE(random_state=42)\n",
        "X_res, y_res = smote.fit_resample(x,y)"
      ]
    },
    {
      "cell_type": "code",
      "source": [
        "y_res.value_counts()"
      ],
      "metadata": {
        "colab": {
          "base_uri": "https://localhost:8080/"
        },
        "id": "qa_5ue3kuxk-",
        "outputId": "c5f53ba4-241a-47e7-9436-295cd6b18ff3"
      },
      "execution_count": null,
      "outputs": [
        {
          "output_type": "execute_result",
          "data": {
            "text/plain": [
              "target\n",
              "0    230\n",
              "1    230\n",
              "Name: count, dtype: int64"
            ]
          },
          "metadata": {},
          "execution_count": 21
        }
      ]
    },
    {
      "cell_type": "code",
      "execution_count": null,
      "metadata": {
        "colab": {
          "base_uri": "https://localhost:8080/"
        },
        "id": "kVovOjJKG6Dt",
        "outputId": "4a09ea9b-c4c8-46a8-818c-829f687a5e36"
      },
      "outputs": [
        {
          "output_type": "stream",
          "name": "stdout",
          "text": [
            "[[1.00000000e+00 1.01300000e+00 6.19000000e+00 ... 1.53760000e+04\n",
            "  1.79800000e+02 2.10250000e+00]\n",
            " [1.00000000e+00 1.02500000e+00 5.40000000e+00 ... 1.55236000e+05\n",
            "  1.64692000e+03 1.74724000e+01]\n",
            " [1.00000000e+00 1.00900000e+00 6.13000000e+00 ... 2.52810000e+04\n",
            "  1.43736000e+03 8.17216000e+01]\n",
            " ...\n",
            " [1.00000000e+00 1.02016527e+00 5.45274446e+00 ... 2.61121000e+05\n",
            "  3.58080417e+03 4.91042794e+01]\n",
            " [1.00000000e+00 1.02487491e+00 5.68297092e+00 ... 1.48225000e+05\n",
            "  1.53537021e+03 1.59039412e+01]\n",
            " [1.00000000e+00 1.02791918e+00 5.43604350e+00 ... 1.71396000e+05\n",
            "  4.35673792e+03 1.10744506e+02]]\n"
          ]
        }
      ],
      "source": [
        "poly = PolynomialFeatures(degree=2)\n",
        "X_poly = poly.fit_transform(X_res)\n",
        "print(X_poly)"
      ]
    },
    {
      "cell_type": "code",
      "execution_count": null,
      "metadata": {
        "id": "sW6YJ026G6Dt"
      },
      "outputs": [],
      "source": [
        "scaler = StandardScaler()\n",
        "X_val_scaled = scaler.fit_transform(X_poly)"
      ]
    },
    {
      "cell_type": "code",
      "execution_count": null,
      "metadata": {
        "id": "j1ujb3vuG6Dt"
      },
      "outputs": [],
      "source": [
        "X_train, X_test, y_train, y_test = train_test_split(X_val_scaled, y_res, test_size=0.2, random_state=42)"
      ]
    },
    {
      "cell_type": "code",
      "execution_count": null,
      "metadata": {
        "colab": {
          "base_uri": "https://localhost:8080/"
        },
        "id": "0cIUUETaG6Dt",
        "outputId": "f4fd36bc-4e49-4128-af39-c5cac6329104"
      },
      "outputs": [
        {
          "output_type": "stream",
          "name": "stdout",
          "text": [
            "Shape of input features (X_train): (368, 28)\n",
            "Shape of target variable (y_train): (368,)\n"
          ]
        }
      ],
      "source": [
        "print(\"Shape of input features (X_train):\", X_train.shape)\n",
        "print(\"Shape of target variable (y_train):\", y_train.shape)"
      ]
    },
    {
      "cell_type": "markdown",
      "source": [
        "# **Model 2**"
      ],
      "metadata": {
        "id": "iB5mdRwjHn62"
      }
    },
    {
      "cell_type": "code",
      "execution_count": null,
      "metadata": {
        "id": "yM-UVeMbG6Dt"
      },
      "outputs": [],
      "source": [
        "#"
      ]
    },
    {
      "cell_type": "code",
      "execution_count": null,
      "metadata": {
        "id": "X7xMNxqZG6Dt"
      },
      "outputs": [],
      "source": [
        "input_shape = (X_train.shape[1],)"
      ]
    },
    {
      "cell_type": "code",
      "execution_count": null,
      "metadata": {
        "id": "y7Feu80tG6Dt"
      },
      "outputs": [],
      "source": [
        "model = None\n",
        "model = Sequential()\n",
        "model.add(Dense(6, activation='relu', input_shape=input_shape))\n",
        "model.add(Dense(1, activation='sigmoid'))"
      ]
    },
    {
      "cell_type": "code",
      "execution_count": null,
      "metadata": {
        "id": "TA6y3ddIG6Dt"
      },
      "outputs": [],
      "source": [
        "adam=Adam(learning_rate=0.001)\n",
        "\n",
        "model.compile(optimizer='adam', loss='binary_crossentropy', metrics=['accuracy'])"
      ]
    },
    {
      "cell_type": "code",
      "execution_count": null,
      "metadata": {
        "colab": {
          "base_uri": "https://localhost:8080/"
        },
        "id": "6pl2nuKSG6Du",
        "outputId": "4f24431c-9389-4953-d442-f4eec0f53345"
      },
      "outputs": [
        {
          "output_type": "stream",
          "name": "stdout",
          "text": [
            "Epoch 1/25\n",
            "10/10 [==============================] - 2s 71ms/step - loss: 0.8014 - accuracy: 0.5068 - val_loss: 0.7463 - val_accuracy: 0.5135\n",
            "Epoch 2/25\n",
            "10/10 [==============================] - 0s 20ms/step - loss: 0.7565 - accuracy: 0.5000 - val_loss: 0.7243 - val_accuracy: 0.5270\n",
            "Epoch 3/25\n",
            "10/10 [==============================] - 0s 15ms/step - loss: 0.7190 - accuracy: 0.5170 - val_loss: 0.7071 - val_accuracy: 0.5541\n",
            "Epoch 4/25\n",
            "10/10 [==============================] - 0s 24ms/step - loss: 0.6885 - accuracy: 0.5374 - val_loss: 0.6943 - val_accuracy: 0.5541\n",
            "Epoch 5/25\n",
            "10/10 [==============================] - 0s 9ms/step - loss: 0.6658 - accuracy: 0.6020 - val_loss: 0.6852 - val_accuracy: 0.5946\n",
            "Epoch 6/25\n",
            "10/10 [==============================] - 0s 9ms/step - loss: 0.6512 - accuracy: 0.6224 - val_loss: 0.6756 - val_accuracy: 0.5811\n",
            "Epoch 7/25\n",
            "10/10 [==============================] - 0s 12ms/step - loss: 0.6380 - accuracy: 0.6327 - val_loss: 0.6686 - val_accuracy: 0.6081\n",
            "Epoch 8/25\n",
            "10/10 [==============================] - 0s 14ms/step - loss: 0.6267 - accuracy: 0.6565 - val_loss: 0.6637 - val_accuracy: 0.6081\n",
            "Epoch 9/25\n",
            "10/10 [==============================] - 0s 13ms/step - loss: 0.6166 - accuracy: 0.6633 - val_loss: 0.6601 - val_accuracy: 0.5946\n",
            "Epoch 10/25\n",
            "10/10 [==============================] - 0s 18ms/step - loss: 0.6077 - accuracy: 0.6633 - val_loss: 0.6576 - val_accuracy: 0.5946\n",
            "Epoch 11/25\n",
            "10/10 [==============================] - 0s 14ms/step - loss: 0.5996 - accuracy: 0.6735 - val_loss: 0.6551 - val_accuracy: 0.5946\n",
            "Epoch 12/25\n",
            "10/10 [==============================] - 0s 35ms/step - loss: 0.5919 - accuracy: 0.6803 - val_loss: 0.6531 - val_accuracy: 0.6081\n",
            "Epoch 13/25\n",
            "10/10 [==============================] - 0s 26ms/step - loss: 0.5844 - accuracy: 0.6837 - val_loss: 0.6528 - val_accuracy: 0.6216\n",
            "Epoch 14/25\n",
            "10/10 [==============================] - 0s 31ms/step - loss: 0.5788 - accuracy: 0.6905 - val_loss: 0.6528 - val_accuracy: 0.6351\n",
            "Epoch 15/25\n",
            "10/10 [==============================] - 0s 25ms/step - loss: 0.5735 - accuracy: 0.6973 - val_loss: 0.6525 - val_accuracy: 0.6351\n",
            "Epoch 16/25\n",
            "10/10 [==============================] - 0s 24ms/step - loss: 0.5686 - accuracy: 0.6939 - val_loss: 0.6524 - val_accuracy: 0.6486\n",
            "Epoch 17/25\n",
            "10/10 [==============================] - 0s 20ms/step - loss: 0.5633 - accuracy: 0.7075 - val_loss: 0.6525 - val_accuracy: 0.6622\n",
            "Epoch 18/25\n",
            "10/10 [==============================] - 0s 20ms/step - loss: 0.5597 - accuracy: 0.7075 - val_loss: 0.6521 - val_accuracy: 0.6622\n",
            "Epoch 19/25\n",
            "10/10 [==============================] - 0s 27ms/step - loss: 0.5562 - accuracy: 0.7143 - val_loss: 0.6539 - val_accuracy: 0.6622\n",
            "Epoch 20/25\n",
            "10/10 [==============================] - 0s 25ms/step - loss: 0.5511 - accuracy: 0.7109 - val_loss: 0.6555 - val_accuracy: 0.6757\n",
            "Epoch 21/25\n",
            "10/10 [==============================] - 0s 21ms/step - loss: 0.5480 - accuracy: 0.7109 - val_loss: 0.6581 - val_accuracy: 0.6757\n",
            "Epoch 22/25\n",
            "10/10 [==============================] - 0s 22ms/step - loss: 0.5443 - accuracy: 0.7143 - val_loss: 0.6581 - val_accuracy: 0.6622\n",
            "Epoch 23/25\n",
            "10/10 [==============================] - 0s 16ms/step - loss: 0.5408 - accuracy: 0.7211 - val_loss: 0.6576 - val_accuracy: 0.6622\n",
            "Epoch 24/25\n",
            "10/10 [==============================] - 0s 19ms/step - loss: 0.5384 - accuracy: 0.7279 - val_loss: 0.6578 - val_accuracy: 0.6486\n",
            "Epoch 25/25\n",
            "10/10 [==============================] - 0s 28ms/step - loss: 0.5360 - accuracy: 0.7313 - val_loss: 0.6590 - val_accuracy: 0.6351\n"
          ]
        }
      ],
      "source": [
        "history = model.fit(X_train, y_train, epochs=25, validation_split=0.2)"
      ]
    },
    {
      "cell_type": "code",
      "execution_count": null,
      "metadata": {
        "colab": {
          "base_uri": "https://localhost:8080/"
        },
        "id": "Gp1DT8rTG6Du",
        "outputId": "8c9eb3cf-32af-4e38-bd46-ef979c1b4444"
      },
      "outputs": [
        {
          "output_type": "stream",
          "name": "stdout",
          "text": [
            "3/3 [==============================] - 0s 7ms/step - loss: 0.6664 - accuracy: 0.6522\n"
          ]
        }
      ],
      "source": [
        "val_loss, val_accuracy = model.evaluate(X_test, y_test)"
      ]
    },
    {
      "cell_type": "code",
      "execution_count": null,
      "metadata": {
        "colab": {
          "base_uri": "https://localhost:8080/"
        },
        "id": "o_undk_UG6Du",
        "outputId": "1d290c3f-84ef-4306-bb4e-ca60affd8ff5"
      },
      "outputs": [
        {
          "output_type": "stream",
          "name": "stdout",
          "text": [
            "Validation Accuracy: 0.6521739363670349\n"
          ]
        }
      ],
      "source": [
        "print(\"Validation Accuracy:\", val_accuracy)"
      ]
    },
    {
      "cell_type": "code",
      "execution_count": null,
      "metadata": {
        "id": "pH8GKqrFG6Du"
      },
      "outputs": [],
      "source": []
    },
    {
      "cell_type": "markdown",
      "metadata": {
        "id": "_DmgWSCXG6Du"
      },
      "source": [
        "---"
      ]
    },
    {
      "cell_type": "markdown",
      "source": [
        "# **Model 3**"
      ],
      "metadata": {
        "id": "W-Pg5kPdHtWz"
      }
    },
    {
      "cell_type": "code",
      "execution_count": null,
      "metadata": {
        "id": "opOd28pXG6Du"
      },
      "outputs": [],
      "source": [
        "model = None\n",
        "model = Sequential()\n",
        "model.add(Dense(6, activation='relu', input_shape=input_shape))\n",
        "model.add(Dense(9, activation='relu'))\n",
        "model.add(Dense(1, activation='sigmoid'))"
      ]
    },
    {
      "cell_type": "code",
      "execution_count": null,
      "metadata": {
        "id": "Iy19sPRQG6Du"
      },
      "outputs": [],
      "source": [
        "adam=Adam(learning_rate=0.001)\n",
        "\n",
        "model.compile(optimizer='adam', loss='binary_crossentropy', metrics=['accuracy'])"
      ]
    },
    {
      "cell_type": "code",
      "execution_count": null,
      "metadata": {
        "colab": {
          "base_uri": "https://localhost:8080/"
        },
        "id": "pLavUnDFG6Du",
        "outputId": "b97491c4-9cd6-48e8-c5c4-3dd0ecefd57d"
      },
      "outputs": [
        {
          "output_type": "stream",
          "name": "stdout",
          "text": [
            "Epoch 1/25\n",
            "10/10 [==============================] - 1s 24ms/step - loss: 0.6993 - accuracy: 0.5034 - val_loss: 0.6911 - val_accuracy: 0.5270\n",
            "Epoch 2/25\n",
            "10/10 [==============================] - 0s 7ms/step - loss: 0.6769 - accuracy: 0.5714 - val_loss: 0.6844 - val_accuracy: 0.6081\n",
            "Epoch 3/25\n",
            "10/10 [==============================] - 0s 7ms/step - loss: 0.6622 - accuracy: 0.6497 - val_loss: 0.6828 - val_accuracy: 0.5811\n",
            "Epoch 4/25\n",
            "10/10 [==============================] - 0s 7ms/step - loss: 0.6513 - accuracy: 0.6735 - val_loss: 0.6824 - val_accuracy: 0.5946\n",
            "Epoch 5/25\n",
            "10/10 [==============================] - 0s 7ms/step - loss: 0.6404 - accuracy: 0.7177 - val_loss: 0.6815 - val_accuracy: 0.5811\n",
            "Epoch 6/25\n",
            "10/10 [==============================] - 0s 5ms/step - loss: 0.6318 - accuracy: 0.7381 - val_loss: 0.6809 - val_accuracy: 0.6216\n",
            "Epoch 7/25\n",
            "10/10 [==============================] - 0s 6ms/step - loss: 0.6237 - accuracy: 0.7449 - val_loss: 0.6804 - val_accuracy: 0.6216\n",
            "Epoch 8/25\n",
            "10/10 [==============================] - 0s 7ms/step - loss: 0.6160 - accuracy: 0.7551 - val_loss: 0.6793 - val_accuracy: 0.6486\n",
            "Epoch 9/25\n",
            "10/10 [==============================] - 0s 7ms/step - loss: 0.6096 - accuracy: 0.7585 - val_loss: 0.6791 - val_accuracy: 0.6622\n",
            "Epoch 10/25\n",
            "10/10 [==============================] - 0s 7ms/step - loss: 0.6024 - accuracy: 0.7653 - val_loss: 0.6789 - val_accuracy: 0.6757\n",
            "Epoch 11/25\n",
            "10/10 [==============================] - 0s 7ms/step - loss: 0.5955 - accuracy: 0.7619 - val_loss: 0.6796 - val_accuracy: 0.6757\n",
            "Epoch 12/25\n",
            "10/10 [==============================] - 0s 6ms/step - loss: 0.5878 - accuracy: 0.7653 - val_loss: 0.6782 - val_accuracy: 0.6892\n",
            "Epoch 13/25\n",
            "10/10 [==============================] - 0s 7ms/step - loss: 0.5814 - accuracy: 0.7653 - val_loss: 0.6766 - val_accuracy: 0.6757\n",
            "Epoch 14/25\n",
            "10/10 [==============================] - 0s 7ms/step - loss: 0.5747 - accuracy: 0.7653 - val_loss: 0.6762 - val_accuracy: 0.6757\n",
            "Epoch 15/25\n",
            "10/10 [==============================] - 0s 7ms/step - loss: 0.5690 - accuracy: 0.7687 - val_loss: 0.6772 - val_accuracy: 0.6757\n",
            "Epoch 16/25\n",
            "10/10 [==============================] - 0s 5ms/step - loss: 0.5634 - accuracy: 0.7721 - val_loss: 0.6763 - val_accuracy: 0.6892\n",
            "Epoch 17/25\n",
            "10/10 [==============================] - 0s 8ms/step - loss: 0.5570 - accuracy: 0.7721 - val_loss: 0.6745 - val_accuracy: 0.6757\n",
            "Epoch 18/25\n",
            "10/10 [==============================] - 0s 7ms/step - loss: 0.5516 - accuracy: 0.7823 - val_loss: 0.6764 - val_accuracy: 0.6757\n",
            "Epoch 19/25\n",
            "10/10 [==============================] - 0s 7ms/step - loss: 0.5470 - accuracy: 0.7823 - val_loss: 0.6768 - val_accuracy: 0.6757\n",
            "Epoch 20/25\n",
            "10/10 [==============================] - 0s 8ms/step - loss: 0.5427 - accuracy: 0.7789 - val_loss: 0.6760 - val_accuracy: 0.6757\n",
            "Epoch 21/25\n",
            "10/10 [==============================] - 0s 8ms/step - loss: 0.5384 - accuracy: 0.7823 - val_loss: 0.6782 - val_accuracy: 0.6757\n",
            "Epoch 22/25\n",
            "10/10 [==============================] - 0s 6ms/step - loss: 0.5347 - accuracy: 0.7789 - val_loss: 0.6799 - val_accuracy: 0.6892\n",
            "Epoch 23/25\n",
            "10/10 [==============================] - 0s 8ms/step - loss: 0.5317 - accuracy: 0.7789 - val_loss: 0.6782 - val_accuracy: 0.6892\n",
            "Epoch 24/25\n",
            "10/10 [==============================] - 0s 6ms/step - loss: 0.5287 - accuracy: 0.7857 - val_loss: 0.6800 - val_accuracy: 0.6892\n",
            "Epoch 25/25\n",
            "10/10 [==============================] - 0s 5ms/step - loss: 0.5263 - accuracy: 0.7857 - val_loss: 0.6833 - val_accuracy: 0.6892\n"
          ]
        }
      ],
      "source": [
        "history = model.fit(X_train, y_train, epochs=25, validation_split=0.2)"
      ]
    },
    {
      "cell_type": "code",
      "execution_count": null,
      "metadata": {
        "colab": {
          "base_uri": "https://localhost:8080/"
        },
        "id": "CDgOCy4KG6Du",
        "outputId": "fa1cc457-b884-4641-e678-6c691b4e4434"
      },
      "outputs": [
        {
          "output_type": "stream",
          "name": "stdout",
          "text": [
            "3/3 [==============================] - 0s 4ms/step - loss: 0.6766 - accuracy: 0.6848\n"
          ]
        }
      ],
      "source": [
        "val_loss, val_accuracy = model.evaluate(X_test, y_test)"
      ]
    },
    {
      "cell_type": "code",
      "execution_count": null,
      "metadata": {
        "colab": {
          "base_uri": "https://localhost:8080/"
        },
        "id": "8o5klWQtG6Du",
        "outputId": "1ab96b92-7190-434b-97bf-44e7a3d43f7d"
      },
      "outputs": [
        {
          "output_type": "stream",
          "name": "stdout",
          "text": [
            "Validation Accuracy: 0.6847826242446899\n"
          ]
        }
      ],
      "source": [
        "print(\"Validation Accuracy:\", val_accuracy)"
      ]
    },
    {
      "cell_type": "code",
      "source": [],
      "metadata": {
        "id": "1q6xvXnBH4yj"
      },
      "execution_count": null,
      "outputs": []
    },
    {
      "cell_type": "markdown",
      "metadata": {
        "id": "oPlCaN5zG6Du"
      },
      "source": [
        "---"
      ]
    },
    {
      "cell_type": "markdown",
      "source": [
        "# **Model 4n**"
      ],
      "metadata": {
        "id": "Sop5iRdgH1ey"
      }
    },
    {
      "cell_type": "code",
      "execution_count": null,
      "metadata": {
        "colab": {
          "base_uri": "https://localhost:8080/"
        },
        "id": "96qgnTS3G6Du",
        "outputId": "b882dfb0-b195-44cd-bf0e-faa122c1b5eb"
      },
      "outputs": [
        {
          "output_type": "execute_result",
          "data": {
            "text/plain": [
              "(28,)"
            ]
          },
          "metadata": {},
          "execution_count": 36
        }
      ],
      "source": [
        "input_shape"
      ]
    },
    {
      "cell_type": "code",
      "execution_count": null,
      "metadata": {
        "id": "sMhH2ysuG6Du"
      },
      "outputs": [],
      "source": [
        "model = None\n",
        "model = Sequential()\n",
        "model.add(Dropout(0.1, input_shape=input_shape))\n",
        "model.add(Dense(28, activation='relu'))\n",
        "model.add(Dense(56, activation='relu'))\n",
        "model.add(Dense(14, activation='relu'))\n",
        "model.add(Dense(1, activation='sigmoid'))"
      ]
    },
    {
      "cell_type": "code",
      "execution_count": null,
      "metadata": {
        "id": "2TUjOomsG6Dv"
      },
      "outputs": [],
      "source": [
        "adam=Adam(learning_rate=0.001)\n",
        "\n",
        "model.compile(optimizer='adam', loss='binary_crossentropy', metrics=['accuracy'])"
      ]
    },
    {
      "cell_type": "code",
      "execution_count": null,
      "metadata": {
        "colab": {
          "base_uri": "https://localhost:8080/"
        },
        "id": "TM_tSmWhG6Dv",
        "outputId": "181b8de4-10f2-4c90-de40-7ae695d7d0d6"
      },
      "outputs": [
        {
          "output_type": "stream",
          "name": "stdout",
          "text": [
            "Epoch 1/30\n",
            "10/10 [==============================] - 1s 26ms/step - loss: 0.6380 - accuracy: 0.6190 - val_loss: 0.6980 - val_accuracy: 0.5676 - lr: 0.0010\n",
            "Epoch 2/30\n",
            "10/10 [==============================] - 0s 7ms/step - loss: 0.5952 - accuracy: 0.7041 - val_loss: 0.7098 - val_accuracy: 0.5811 - lr: 0.0010\n",
            "Epoch 3/30\n",
            "10/10 [==============================] - 0s 7ms/step - loss: 0.5770 - accuracy: 0.6905 - val_loss: 0.7149 - val_accuracy: 0.6081 - lr: 0.0010\n",
            "Epoch 4/30\n",
            "10/10 [==============================] - 0s 6ms/step - loss: 0.5671 - accuracy: 0.7177 - val_loss: 0.7164 - val_accuracy: 0.6081 - lr: 0.0010\n",
            "Epoch 5/30\n",
            "10/10 [==============================] - 0s 8ms/step - loss: 0.5603 - accuracy: 0.7381 - val_loss: 0.7156 - val_accuracy: 0.5946 - lr: 0.0010\n",
            "Epoch 6/30\n",
            "10/10 [==============================] - 0s 6ms/step - loss: 0.5354 - accuracy: 0.7619 - val_loss: 0.7289 - val_accuracy: 0.6081 - lr: 0.0010\n",
            "Epoch 7/30\n",
            "10/10 [==============================] - 0s 7ms/step - loss: 0.5342 - accuracy: 0.7483 - val_loss: 0.7295 - val_accuracy: 0.6081 - lr: 1.0000e-04\n",
            "Epoch 8/30\n",
            "10/10 [==============================] - 0s 7ms/step - loss: 0.5456 - accuracy: 0.7415 - val_loss: 0.7291 - val_accuracy: 0.6081 - lr: 1.0000e-04\n",
            "Epoch 9/30\n",
            "10/10 [==============================] - 0s 8ms/step - loss: 0.5361 - accuracy: 0.7585 - val_loss: 0.7282 - val_accuracy: 0.5946 - lr: 1.0000e-04\n",
            "Epoch 10/30\n",
            "10/10 [==============================] - 0s 7ms/step - loss: 0.5383 - accuracy: 0.7381 - val_loss: 0.7280 - val_accuracy: 0.5946 - lr: 1.0000e-05\n"
          ]
        }
      ],
      "source": [
        "learning_rate_reduction = ReduceLROnPlateau(monitor='val_accuracy', patience=3, factor=0.1)\n",
        "early_stopping = EarlyStopping(monitor='val_accuracy', patience=7)\n",
        "\n",
        "history = model.fit(X_train, y_train, epochs=30, validation_split=0.2, callbacks=[learning_rate_reduction, early_stopping])\n",
        "#history = model.fit(X_train, y_train, epochs=25, validation_split=0.2)"
      ]
    },
    {
      "cell_type": "code",
      "execution_count": null,
      "metadata": {
        "colab": {
          "base_uri": "https://localhost:8080/"
        },
        "id": "VyszQ1_bG6Dv",
        "outputId": "0e3f198e-ac71-473c-a95b-1a354a18383a"
      },
      "outputs": [
        {
          "output_type": "stream",
          "name": "stdout",
          "text": [
            "3/3 [==============================] - 0s 5ms/step - loss: 0.7089 - accuracy: 0.6957\n"
          ]
        }
      ],
      "source": [
        "val_loss, val_accuracy = model.evaluate(X_test, y_test)"
      ]
    },
    {
      "cell_type": "code",
      "execution_count": null,
      "metadata": {
        "colab": {
          "base_uri": "https://localhost:8080/"
        },
        "id": "YHBhRn1rG6Dv",
        "outputId": "42a0f0e2-5a30-4844-9ea8-911c73048784"
      },
      "outputs": [
        {
          "output_type": "stream",
          "name": "stdout",
          "text": [
            "Validation Accuracy: 0.695652186870575\n"
          ]
        }
      ],
      "source": [
        "print(\"Validation Accuracy:\", val_accuracy)"
      ]
    },
    {
      "cell_type": "markdown",
      "source": [
        "# **Model 5**"
      ],
      "metadata": {
        "id": "TSaoimyHIANx"
      }
    },
    {
      "cell_type": "markdown",
      "metadata": {
        "id": "NACBe47DG6Dw"
      },
      "source": [
        "---"
      ]
    },
    {
      "cell_type": "code",
      "execution_count": null,
      "metadata": {
        "id": "wrcQr3zgG6Dw"
      },
      "outputs": [],
      "source": [
        "model = None\n",
        "model = Sequential()\n",
        "model.add(Dense(6, activation='relu', input_shape=input_shape))\n",
        "Dropout(0.5)\n",
        "model.add(Dense(6, activation='relu'))\n",
        "Dropout(0.5)\n",
        "model.add(Dense(2, activation='softmax'))"
      ]
    },
    {
      "cell_type": "code",
      "execution_count": null,
      "metadata": {
        "id": "izN0NVLmG6Dw"
      },
      "outputs": [],
      "source": [
        "adam=Adam(learning_rate=0.001)\n",
        "\n",
        "model.compile(optimizer='adam', loss='binary_crossentropy', metrics=['accuracy'])"
      ]
    },
    {
      "cell_type": "code",
      "execution_count": null,
      "metadata": {
        "colab": {
          "base_uri": "https://localhost:8080/"
        },
        "id": "WQKeAjSmG6Dw",
        "outputId": "0db5a947-fde8-492d-9ec0-a3c6d8a5f971"
      },
      "outputs": [
        {
          "output_type": "stream",
          "name": "stdout",
          "text": [
            "Epoch 1/30\n",
            "10/10 [==============================] - 1s 23ms/step - loss: 0.6855 - accuracy: 0.5374 - val_loss: 0.7484 - val_accuracy: 0.4730 - lr: 0.0010\n",
            "Epoch 2/30\n",
            "10/10 [==============================] - 0s 7ms/step - loss: 0.6657 - accuracy: 0.5884 - val_loss: 0.7367 - val_accuracy: 0.5541 - lr: 0.0010\n",
            "Epoch 3/30\n",
            "10/10 [==============================] - 0s 7ms/step - loss: 0.6526 - accuracy: 0.6293 - val_loss: 0.7299 - val_accuracy: 0.5811 - lr: 0.0010\n",
            "Epoch 4/30\n",
            "10/10 [==============================] - 0s 7ms/step - loss: 0.6436 - accuracy: 0.6701 - val_loss: 0.7292 - val_accuracy: 0.5541 - lr: 0.0010\n",
            "Epoch 5/30\n",
            "10/10 [==============================] - 0s 6ms/step - loss: 0.6373 - accuracy: 0.6871 - val_loss: 0.7301 - val_accuracy: 0.5676 - lr: 0.0010\n",
            "Epoch 6/30\n",
            "10/10 [==============================] - 0s 7ms/step - loss: 0.6318 - accuracy: 0.7109 - val_loss: 0.7294 - val_accuracy: 0.5811 - lr: 0.0010\n",
            "Epoch 7/30\n",
            "10/10 [==============================] - 0s 8ms/step - loss: 0.6287 - accuracy: 0.7177 - val_loss: 0.7294 - val_accuracy: 0.5811 - lr: 1.0000e-04\n",
            "Epoch 8/30\n",
            "10/10 [==============================] - 0s 6ms/step - loss: 0.6283 - accuracy: 0.7143 - val_loss: 0.7292 - val_accuracy: 0.5811 - lr: 1.0000e-04\n",
            "Epoch 9/30\n",
            "10/10 [==============================] - 0s 8ms/step - loss: 0.6279 - accuracy: 0.7177 - val_loss: 0.7291 - val_accuracy: 0.5811 - lr: 1.0000e-04\n",
            "Epoch 10/30\n",
            "10/10 [==============================] - 0s 8ms/step - loss: 0.6276 - accuracy: 0.7177 - val_loss: 0.7291 - val_accuracy: 0.5811 - lr: 1.0000e-05\n"
          ]
        }
      ],
      "source": [
        "learning_rate_reduction = ReduceLROnPlateau(monitor='val_accuracy', patience=3, factor=0.1)\n",
        "early_stopping = EarlyStopping(monitor='val_accuracy', patience=7)\n",
        "\n",
        "history = model.fit(X_train, y_train, epochs=30, validation_split=0.2, callbacks=[learning_rate_reduction, early_stopping])"
      ]
    },
    {
      "cell_type": "code",
      "execution_count": null,
      "metadata": {
        "colab": {
          "base_uri": "https://localhost:8080/"
        },
        "id": "D2K8gl6cG6Dw",
        "outputId": "0df51335-faa8-4bfc-9c21-fe31ac772c85"
      },
      "outputs": [
        {
          "output_type": "stream",
          "name": "stdout",
          "text": [
            "3/3 [==============================] - 0s 4ms/step - loss: 0.7257 - accuracy: 0.6087\n"
          ]
        }
      ],
      "source": [
        "val_loss, val_accuracy = model.evaluate(X_test, y_test)"
      ]
    },
    {
      "cell_type": "code",
      "execution_count": null,
      "metadata": {
        "colab": {
          "base_uri": "https://localhost:8080/"
        },
        "id": "EoG8OuM3G6Dw",
        "outputId": "9bf70782-0f83-44e8-ed77-af27d1370aeb"
      },
      "outputs": [
        {
          "output_type": "stream",
          "name": "stdout",
          "text": [
            "Validation Accuracy: 0.6086956262588501\n"
          ]
        }
      ],
      "source": [
        "print(\"Validation Accuracy:\", val_accuracy)"
      ]
    },
    {
      "cell_type": "code",
      "execution_count": null,
      "metadata": {
        "id": "M8sQwEjTG6Dw"
      },
      "outputs": [],
      "source": []
    }
  ],
  "metadata": {
    "kernelspec": {
      "display_name": "myvenv",
      "language": "python",
      "name": "python3"
    },
    "language_info": {
      "codemirror_mode": {
        "name": "ipython",
        "version": 3
      },
      "file_extension": ".py",
      "mimetype": "text/x-python",
      "name": "python",
      "nbconvert_exporter": "python",
      "pygments_lexer": "ipython3",
      "version": "3.9.6"
    },
    "colab": {
      "provenance": []
    }
  },
  "nbformat": 4,
  "nbformat_minor": 0
}